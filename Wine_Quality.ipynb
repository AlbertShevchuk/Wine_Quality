{
 "cells": [
  {
   "cell_type": "code",
   "execution_count": 17,
   "metadata": {},
   "outputs": [
    {
     "name": "stdout",
     "output_type": "stream",
     "text": [
      "[[1081   19]\n",
      " [ 131   48]]\n",
      "              precision    recall  f1-score   support\n",
      "\n",
      "           0       0.89      0.98      0.94      1100\n",
      "           1       0.72      0.27      0.39       179\n",
      "\n",
      "   micro avg       0.88      0.88      0.88      1279\n",
      "   macro avg       0.80      0.63      0.66      1279\n",
      "weighted avg       0.87      0.88      0.86      1279\n",
      "\n",
      "Accuracy Score:  0.8827208756841283\n",
      "OOB Score:  0.9059561128526645\n"
     ]
    }
   ],
   "source": [
    "import pandas as pd\n",
    "\n",
    "dataset = pd.read_csv('C:/Users/Albert/Dropbox/SF_State/CSC_699-AI/Wine_Quality/winequality-red.csv', delimiter = \";\")\n",
    "\n",
    "dataset['binary'] = dataset['quality'].gt(6).astype(int)\n",
    "\n",
    "x = dataset.iloc[0:1598, 0:11].values\n",
    "y = dataset.iloc[0:1598, 12].values\n",
    "\n",
    "from sklearn.model_selection import train_test_split\n",
    "\n",
    "x_train, x_test, y_train, y_test = train_test_split(x, y, test_size = .8)\n",
    "\n",
    "from sklearn.ensemble import RandomForestClassifier\n",
    "\n",
    "classifier = RandomForestClassifier(n_estimators = 100, oob_score = True)\n",
    "classifier.fit(x_train, y_train)\n",
    "\n",
    "y_pred = classifier.predict(x_test)\n",
    "\n",
    "from sklearn.metrics import classification_report, confusion_matrix, accuracy_score\n",
    "\n",
    "print(confusion_matrix(y_test,y_pred))\n",
    "print(classification_report(y_test,y_pred))\n",
    "print('Accuracy Score: ', accuracy_score(y_test, y_pred))\n",
    "print('OOB Score: ',classifier.oob_score_)\n",
    "\n"
   ]
  },
  {
   "cell_type": "code",
   "execution_count": 18,
   "metadata": {},
   "outputs": [
    {
     "name": "stdout",
     "output_type": "stream",
     "text": [
      "[[930  64]\n",
      " [147 138]]\n",
      "              precision    recall  f1-score   support\n",
      "\n",
      "           0       0.86      0.94      0.90       994\n",
      "           1       0.68      0.48      0.57       285\n",
      "\n",
      "   micro avg       0.84      0.84      0.84      1279\n",
      "   macro avg       0.77      0.71      0.73      1279\n",
      "weighted avg       0.82      0.84      0.82      1279\n",
      "\n",
      "Accuracy Score:  0.835027365129007\n",
      "OOB Score:  0.8213166144200627\n"
     ]
    }
   ],
   "source": [
    "import pandas as pd\n",
    "\n",
    "dataset = pd.read_csv('C:/Users/Albert/Dropbox/SF_State/CSC_699-AI/Wine_Quality/winequality-white.csv', delimiter = \";\")\n",
    "\n",
    "dataset['binary'] = dataset['quality'].gt(6).astype(int)\n",
    "\n",
    "x = dataset.iloc[0:1598, 0:11].values\n",
    "y = dataset.iloc[0:1598, 12].values\n",
    "\n",
    "from sklearn.model_selection import train_test_split\n",
    "\n",
    "x_train, x_test, y_train, y_test = train_test_split(x, y, test_size = .8)\n",
    "\n",
    "from sklearn.ensemble import RandomForestClassifier\n",
    "\n",
    "classifier = RandomForestClassifier(n_estimators = 100, oob_score = True)\n",
    "classifier.fit(x_train, y_train)\n",
    "\n",
    "y_pred = classifier.predict(x_test)\n",
    "\n",
    "from sklearn.metrics import classification_report, confusion_matrix, accuracy_score\n",
    "\n",
    "print(confusion_matrix(y_test,y_pred))\n",
    "print(classification_report(y_test,y_pred))\n",
    "print('Accuracy Score: ', accuracy_score(y_test, y_pred))\n",
    "print('OOB Score: ',classifier.oob_score_)\n",
    "\n"
   ]
  },
  {
   "cell_type": "code",
   "execution_count": null,
   "metadata": {},
   "outputs": [],
   "source": []
  }
 ],
 "metadata": {
  "kernelspec": {
   "display_name": "Python 3",
   "language": "python",
   "name": "python3"
  },
  "language_info": {
   "codemirror_mode": {
    "name": "ipython",
    "version": 3
   },
   "file_extension": ".py",
   "mimetype": "text/x-python",
   "name": "python",
   "nbconvert_exporter": "python",
   "pygments_lexer": "ipython3",
   "version": "3.7.1"
  }
 },
 "nbformat": 4,
 "nbformat_minor": 2
}
